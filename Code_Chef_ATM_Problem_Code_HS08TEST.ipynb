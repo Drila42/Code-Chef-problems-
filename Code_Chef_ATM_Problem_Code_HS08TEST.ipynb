{
  "nbformat": 4,
  "nbformat_minor": 0,
  "metadata": {
    "colab": {
      "name": "Code_Chef_ATM_Problem Code: HS08TEST",
      "provenance": [],
      "collapsed_sections": [],
      "authorship_tag": "ABX9TyNaOVZPMpVIIW2XX1phc7tT",
      "include_colab_link": true
    },
    "kernelspec": {
      "name": "python3",
      "display_name": "Python 3"
    }
  },
  "cells": [
    {
      "cell_type": "markdown",
      "metadata": {
        "id": "view-in-github",
        "colab_type": "text"
      },
      "source": [
        "<a href=\"https://colab.research.google.com/github/Drila42/Code-Chef-problems-/blob/master/Code_Chef_ATM_Problem_Code_HS08TEST.ipynb\" target=\"_parent\"><img src=\"https://colab.research.google.com/assets/colab-badge.svg\" alt=\"Open In Colab\"/></a>"
      ]
    },
    {
      "cell_type": "code",
      "metadata": {
        "id": "nn8_CeNCcwD5",
        "colab_type": "code",
        "colab": {}
      },
      "source": [
        "\n",
        "m,b=[float(x) for x in input().split()]\n",
        "\n",
        "if m+0.50<b:\n",
        "    if m%5==0:\n",
        "        print(b-m-0.50)\n",
        "\n",
        "    else :\n",
        "        print(b)\n",
        "else:\n",
        "    print(b)\n",
        "\n",
        "\n"
      ],
      "execution_count": 0,
      "outputs": []
    }
  ]
}