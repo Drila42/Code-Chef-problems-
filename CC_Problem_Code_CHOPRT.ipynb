{
  "nbformat": 4,
  "nbformat_minor": 0,
  "metadata": {
    "colab": {
      "name": "CC_Problem Code: CHOPRT",
      "provenance": [],
      "authorship_tag": "ABX9TyP85GwxoPMm1AB1Yj3iX90C",
      "include_colab_link": true
    },
    "kernelspec": {
      "name": "python3",
      "display_name": "Python 3"
    }
  },
  "cells": [
    {
      "cell_type": "markdown",
      "metadata": {
        "id": "view-in-github",
        "colab_type": "text"
      },
      "source": [
        "<a href=\"https://colab.research.google.com/github/Drila42/Code-Chef-problems-/blob/master/CC_Problem_Code_CHOPRT.ipynb\" target=\"_parent\"><img src=\"https://colab.research.google.com/assets/colab-badge.svg\" alt=\"Open In Colab\"/></a>"
      ]
    },
    {
      "cell_type": "code",
      "metadata": {
        "id": "yyGwoURazMwd",
        "colab_type": "code",
        "colab": {
          "base_uri": "https://localhost:8080/",
          "height": 148
        },
        "outputId": "482a410f-304a-4970-a0ba-a85878aff9bb"
      },
      "source": [
        "t=int(input())\n",
        "while(t>0):\n",
        "  a,b=[int(x) for x in input().split()]\n",
        "\n",
        "  if a<b:\n",
        "    print(\"<\")\n",
        "  elif a>b:\n",
        "    print(\">\")\n",
        "  else:\n",
        "    print(\"=\")\n",
        "  t-=1\n",
        "  "
      ],
      "execution_count": 1,
      "outputs": [
        {
          "output_type": "stream",
          "text": [
            "3\n",
            "3 6 \n",
            "<\n",
            "10 10\n",
            "=\n",
            "56 09\n",
            ">\n"
          ],
          "name": "stdout"
        }
      ]
    },
    {
      "cell_type": "code",
      "metadata": {
        "id": "dqfBmaZszpyY",
        "colab_type": "code",
        "colab": {}
      },
      "source": [
        ""
      ],
      "execution_count": 0,
      "outputs": []
    }
  ]
}