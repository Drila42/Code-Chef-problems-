{
  "nbformat": 4,
  "nbformat_minor": 0,
  "metadata": {
    "colab": {
      "name": "Problem Code: FLOW013",
      "provenance": [],
      "authorship_tag": "ABX9TyO5KdDJ4k+gfszuneHLJW0L",
      "include_colab_link": true
    },
    "kernelspec": {
      "name": "python3",
      "display_name": "Python 3"
    }
  },
  "cells": [
    {
      "cell_type": "markdown",
      "metadata": {
        "id": "view-in-github",
        "colab_type": "text"
      },
      "source": [
        "<a href=\"https://colab.research.google.com/github/Drila42/Code-Chef-problems-/blob/master/Problem_Code_FLOW013.ipynb\" target=\"_parent\"><img src=\"https://colab.research.google.com/assets/colab-badge.svg\" alt=\"Open In Colab\"/></a>"
      ]
    },
    {
      "cell_type": "code",
      "metadata": {
        "id": "4wcPLYCEoNqb",
        "colab_type": "code",
        "colab": {
          "base_uri": "https://localhost:8080/",
          "height": 204
        },
        "outputId": "4a3ec269-aa53-4f57-bdd6-41af106b2adb"
      },
      "source": [
        "t=int(input())\n",
        "while(t>0):\n",
        "  a=[int(x) for x in input().split()]\n",
        " \n",
        "\n",
        "\n",
        "  if a[0]+a[1]+a[2]==180:\n",
        "    print(\"YES\")\n",
        "\n",
        "  else:\n",
        "    print(\"NO\")\n",
        "  t-=1"
      ],
      "execution_count": 3,
      "outputs": [
        {
          "output_type": "stream",
          "text": [
            "3\n",
            "40 40 100\n",
            "the lengthia: 3\n",
            "Yes\n",
            "45 45 90\n",
            "the lengthia: 3\n",
            "Yes\n",
            "45 89 23\n",
            "the lengthia: 3\n",
            "No\n"
          ],
          "name": "stdout"
        }
      ]
    },
    {
      "cell_type": "code",
      "metadata": {
        "id": "b3fL0ikvraG_",
        "colab_type": "code",
        "colab": {}
      },
      "source": [
        ""
      ],
      "execution_count": 0,
      "outputs": []
    }
  ]
}