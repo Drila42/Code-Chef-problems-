{
  "nbformat": 4,
  "nbformat_minor": 0,
  "metadata": {
    "colab": {
      "name": "cc_Problem Code: FLOW006",
      "provenance": [],
      "authorship_tag": "ABX9TyO9HOWxvAC5ESepOfxtwNMj",
      "include_colab_link": true
    },
    "kernelspec": {
      "name": "python3",
      "display_name": "Python 3"
    }
  },
  "cells": [
    {
      "cell_type": "markdown",
      "metadata": {
        "id": "view-in-github",
        "colab_type": "text"
      },
      "source": [
        "<a href=\"https://colab.research.google.com/github/Drila42/Code-Chef-problems-/blob/master/cc_Problem_Code_FLOW006.ipynb\" target=\"_parent\"><img src=\"https://colab.research.google.com/assets/colab-badge.svg\" alt=\"Open In Colab\"/></a>"
      ]
    },
    {
      "cell_type": "code",
      "metadata": {
        "id": "NbEJu9OgmOUY",
        "colab_type": "code",
        "colab": {
          "base_uri": "https://localhost:8080/",
          "height": 73
        },
        "outputId": "c9976913-eb8e-4aee-c470-c2e0eb9c560e"
      },
      "source": [
        "t=int(input())\n",
        "while(t>0):\n",
        "  n=int(input())\n",
        "  sum=0\n",
        "  while(n>0):\n",
        "    sum +=int(n%10)\n",
        "    n=int(n/10)\n",
        "  print(sum)#what\n",
        "\n",
        "  t-=1"
      ],
      "execution_count": 7,
      "outputs": [
        {
          "output_type": "stream",
          "text": [
            "1\n",
            "12345\n",
            "15\n"
          ],
          "name": "stdout"
        }
      ]
    },
    {
      "cell_type": "code",
      "metadata": {
        "id": "A4NrfjmRmi7y",
        "colab_type": "code",
        "colab": {}
      },
      "source": [
        ""
      ],
      "execution_count": 0,
      "outputs": []
    }
  ]
}