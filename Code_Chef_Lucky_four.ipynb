{
  "nbformat": 4,
  "nbformat_minor": 0,
  "metadata": {
    "colab": {
      "name": "Code_Chef_Lucky four",
      "provenance": [],
      "authorship_tag": "ABX9TyOI/Ea2U13Ce5VZSZFXRfht",
      "include_colab_link": true
    },
    "kernelspec": {
      "name": "python3",
      "display_name": "Python 3"
    }
  },
  "cells": [
    {
      "cell_type": "markdown",
      "metadata": {
        "id": "view-in-github",
        "colab_type": "text"
      },
      "source": [
        "<a href=\"https://colab.research.google.com/github/Drila42/Code-Chef-problems-/blob/master/Code_Chef_Lucky_four.ipynb\" target=\"_parent\"><img src=\"https://colab.research.google.com/assets/colab-badge.svg\" alt=\"Open In Colab\"/></a>"
      ]
    },
    {
      "cell_type": "code",
      "metadata": {
        "id": "qOLcsbkbQqeo",
        "colab_type": "code",
        "colab": {
          "base_uri": "https://localhost:8080/",
          "height": 111
        },
        "outputId": "16cda99b-af31-45bc-8629-a74191537d90"
      },
      "source": [
        "t=int(input())\n",
        "while(t>0):\n",
        "  n=int(input())\n",
        "  l=[int(x)for x in str(n)]\n",
        "  print(l.count(4))\n",
        "  t-=1"
      ],
      "execution_count": 2,
      "outputs": [
        {
          "output_type": "stream",
          "text": [
            "2\n",
            "457\n",
            "1\n",
            "87654232444\n",
            "4\n"
          ],
          "name": "stdout"
        }
      ]
    },
    {
      "cell_type": "code",
      "metadata": {
        "id": "CiNQ6KISRjdE",
        "colab_type": "code",
        "colab": {}
      },
      "source": [
        "2\n",
        "457\n"
      ],
      "execution_count": 0,
      "outputs": []
    }
  ]
}