{
  "nbformat": 4,
  "nbformat_minor": 0,
  "metadata": {
    "colab": {
      "name": "CodeChef_HS08TEST",
      "provenance": [],
      "authorship_tag": "ABX9TyMmVy4zaeKQ2sLQHJA19pmi",
      "include_colab_link": true
    },
    "kernelspec": {
      "name": "python3",
      "display_name": "Python 3"
    }
  },
  "cells": [
    {
      "cell_type": "markdown",
      "metadata": {
        "id": "view-in-github",
        "colab_type": "text"
      },
      "source": [
        "<a href=\"https://colab.research.google.com/github/Drila42/Code-Chef-problems-/blob/master/CodeChef_HS08TEST.ipynb\" target=\"_parent\"><img src=\"https://colab.research.google.com/assets/colab-badge.svg\" alt=\"Open In Colab\"/></a>"
      ]
    },
    {
      "cell_type": "code",
      "metadata": {
        "id": "nn8_CeNCcwD5",
        "colab_type": "code",
        "colab": {}
      },
      "source": [
        "t=int(input())\n",
        "while (t>0):\n",
        "    m,b=[float(x) for x in input().split()]\n",
        "\n",
        "    if m<b:\n",
        "        if m%5==0:\n",
        "            print(b-m-0.50)\n",
        "    \n",
        "        else :\n",
        "            print(b)\n",
        "    else:\n",
        "        print(b)\n",
        "    t-=1\n",
        "\n"
      ],
      "execution_count": 0,
      "outputs": []
    }
  ]
}