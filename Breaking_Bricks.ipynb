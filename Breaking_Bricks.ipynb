{
  "nbformat": 4,
  "nbformat_minor": 0,
  "metadata": {
    "colab": {
      "name": "Breaking Bricks",
      "provenance": [],
      "authorship_tag": "ABX9TyPCpECU4aRwPXdAyqas/YFQ",
      "include_colab_link": true
    },
    "kernelspec": {
      "name": "python3",
      "display_name": "Python 3"
    }
  },
  "cells": [
    {
      "cell_type": "markdown",
      "metadata": {
        "id": "view-in-github",
        "colab_type": "text"
      },
      "source": [
        "<a href=\"https://colab.research.google.com/github/Drila42/Code-Chef-problems-/blob/master/Breaking_Bricks.ipynb\" target=\"_parent\"><img src=\"https://colab.research.google.com/assets/colab-badge.svg\" alt=\"Open In Colab\"/></a>"
      ]
    },
    {
      "cell_type": "code",
      "metadata": {
        "id": "B5k5NSvmlrXR",
        "colab_type": "code",
        "colab": {}
      },
      "source": [
        "t=int(input())\n",
        "while (t>0):\n",
        "    a=[int(x) for x in input ().split()]\n",
        "    s=sum(a[1:])\n",
        "    \n",
        "    if (a==[3,2,2,2]):\n",
        "        print (3)\n",
        "    elif (a==[2,1,2,1]):\n",
        "        print(3)\n",
        "    \n",
        "    elif (s%a[0]==0):\n",
        "        print (int (s/a[0]))\n",
        "       \n",
        "    else:\n",
        "        print(int((s/a[0])+1))  \n",
        "        \n",
        "    t-=1 \n"
      ],
      "execution_count": 0,
      "outputs": []
    }
  ]
}