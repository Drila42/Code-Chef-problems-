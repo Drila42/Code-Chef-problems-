{
  "nbformat": 4,
  "nbformat_minor": 0,
  "metadata": {
    "colab": {
      "name": "Code Chef_march 1",
      "provenance": [],
      "collapsed_sections": [],
      "authorship_tag": "ABX9TyNPawAsH1pPBZ6dHaYpW/Px",
      "include_colab_link": true
    },
    "kernelspec": {
      "name": "python3",
      "display_name": "Python 3"
    }
  },
  "cells": [
    {
      "cell_type": "markdown",
      "metadata": {
        "id": "view-in-github",
        "colab_type": "text"
      },
      "source": [
        "<a href=\"https://colab.research.google.com/github/Drila42/Code-Chef-problems-/blob/master/Code_Chef_march_1.ipynb\" target=\"_parent\"><img src=\"https://colab.research.google.com/assets/colab-badge.svg\" alt=\"Open In Colab\"/></a>"
      ]
    },
    {
      "cell_type": "code",
      "metadata": {
        "id": "oIOZse3YFafT",
        "colab_type": "code",
        "outputId": "29240ba1-8846-41cd-be74-7f175c5a4dbb",
        "colab": {
          "base_uri": "https://localhost:8080/",
          "height": 111
        }
      },
      "source": [
        "t=int(input())\n",
        "while (t>0):\n",
        "  n=int(input())\n",
        "  m= int(input())\n",
        "\n",
        "  for i in range (N):\n",
        "    ftype=[int(x) for x in input ().split()]\n",
        "    p=[int(x) for x in input ().split()]\n",
        "\n",
        "  out =50\n",
        "  sum = 0\n",
        "  for i in range (N):\n",
        "    if ftype.count(i)=1:\n",
        "      while (p[i]<out)\n",
        "        out=p[i]\n",
        "\n",
        "    elif ftype.count(i)>1:\n",
        "      x=ftype.index(i)\n",
        "      sum +=p[i]\n",
        "      ftype.pop(i)\n",
        "      p.pop(i)\n",
        "\n",
        "  \n",
        "  t-=1"
      ],
      "execution_count": 0,
      "outputs": [
        {
          "output_type": "stream",
          "text": [
            "1\n",
            "3\n",
            "20 5 3 \n",
            "4 23 5 \n",
            "23\n"
          ],
          "name": "stdout"
        }
      ]
    },
    {
      "cell_type": "code",
      "metadata": {
        "id": "1dTgyj6k27S_",
        "colab_type": "code",
        "colab": {}
      },
      "source": [
        ""
      ],
      "execution_count": 0,
      "outputs": []
    }
  ]
}