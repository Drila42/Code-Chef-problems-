{
  "nbformat": 4,
  "nbformat_minor": 0,
  "metadata": {
    "colab": {
      "name": "CC_Problem Code: ",
      "provenance": [],
      "authorship_tag": "ABX9TyMUh4x1qjt0RTGuEXW/pgLD",
      "include_colab_link": true
    },
    "kernelspec": {
      "name": "python3",
      "display_name": "Python 3"
    }
  },
  "cells": [
    {
      "cell_type": "markdown",
      "metadata": {
        "id": "view-in-github",
        "colab_type": "text"
      },
      "source": [
        "<a href=\"https://colab.research.google.com/github/Drila42/Code-Chef-problems-/blob/master/CC_Problem_Code_CIELRCPT.ipynb\" target=\"_parent\"><img src=\"https://colab.research.google.com/assets/colab-badge.svg\" alt=\"Open In Colab\"/></a>"
      ]
    },
    {
      "cell_type": "code",
      "metadata": {
        "id": "UxfwTOpFl0cj",
        "colab_type": "code",
        "colab": {
          "base_uri": "https://localhost:8080/",
          "height": 73
        },
        "outputId": "ed9980b6-655b-42e0-ff50-5a384f7d0776"
      },
      "source": [
        "t=int(input())\n",
        "m=[2048,1024,512,256,128,64,32,16,8,4,2,1]\n",
        "\n",
        "while(t>0):\n",
        "  count1=0\n",
        "  p=int(input())\n",
        "  for i in range (len(m)): \n",
        "    while p>=m[i]:\n",
        "      count1+=1\n",
        "      p-=m[i]\n",
        "      while p>=m[i]:\n",
        "        p-=m[i]\n",
        "        count1+=1\n",
        "  print(count1)\n",
        "  t-=1\n"
      ],
      "execution_count": 32,
      "outputs": [
        {
          "output_type": "stream",
          "text": [
            "1\n",
            "4096\n",
            "2\n"
          ],
          "name": "stdout"
        }
      ]
    },
    {
      "cell_type": "markdown",
      "metadata": {
        "id": "3u0-ieo1RFkK",
        "colab_type": "text"
      },
      "source": [
        ""
      ]
    },
    {
      "cell_type": "code",
      "metadata": {
        "id": "8Tsb0ZnvTiTv",
        "colab_type": "code",
        "colab": {}
      },
      "source": [
        ""
      ],
      "execution_count": 0,
      "outputs": []
    }
  ]
}