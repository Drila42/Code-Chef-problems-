{
  "nbformat": 4,
  "nbformat_minor": 0,
  "metadata": {
    "colab": {
      "name": "CC_Problem Code: FLOW017",
      "provenance": [],
      "authorship_tag": "ABX9TyM5Zb1b+0jsGDjNdzCznzv0",
      "include_colab_link": true
    },
    "kernelspec": {
      "name": "python3",
      "display_name": "Python 3"
    }
  },
  "cells": [
    {
      "cell_type": "markdown",
      "metadata": {
        "id": "view-in-github",
        "colab_type": "text"
      },
      "source": [
        "<a href=\"https://colab.research.google.com/github/Drila42/Code-Chef-problems-/blob/master/CC_Problem_Code_FLOW017.ipynb\" target=\"_parent\"><img src=\"https://colab.research.google.com/assets/colab-badge.svg\" alt=\"Open In Colab\"/></a>"
      ]
    },
    {
      "cell_type": "code",
      "metadata": {
        "id": "7u8gVcrDVgPa",
        "colab_type": "code",
        "outputId": "39069b69-5490-49e2-9818-5b6a609f668b",
        "colab": {
          "base_uri": "https://localhost:8080/",
          "height": 111
        }
      },
      "source": [
        "t=int(input())\n",
        "while(t>0):\n",
        "  a=[int(x) for x in input().split()]\n",
        "  a.sort(reverse=True)\n",
        "  print(a[1])\n",
        "  t-=1\n",
        "    \n",
        "\n"
      ],
      "execution_count": 2,
      "outputs": [
        {
          "output_type": "stream",
          "text": [
            "2\n",
            "5 7 3 \n",
            "5\n",
            "8 5 79\n",
            "8\n"
          ],
          "name": "stdout"
        }
      ]
    },
    {
      "cell_type": "code",
      "metadata": {
        "id": "ZyRjFF7QYJxP",
        "colab_type": "code",
        "colab": {}
      },
      "source": [
        ""
      ],
      "execution_count": 0,
      "outputs": []
    }
  ]
}