{
  "nbformat": 4,
  "nbformat_minor": 0,
  "metadata": {
    "colab": {
      "name": "cc_pal001",
      "provenance": [],
      "authorship_tag": "ABX9TyMyQVZ4kmqz1G7JgbFPyUn7",
      "include_colab_link": true
    },
    "kernelspec": {
      "name": "python3",
      "display_name": "Python 3"
    }
  },
  "cells": [
    {
      "cell_type": "markdown",
      "metadata": {
        "id": "view-in-github",
        "colab_type": "text"
      },
      "source": [
        "<a href=\"https://colab.research.google.com/github/Drila42/Code-Chef-problems-/blob/master/cc_pal001.ipynb\" target=\"_parent\"><img src=\"https://colab.research.google.com/assets/colab-badge.svg\" alt=\"Open In Colab\"/></a>"
      ]
    },
    {
      "cell_type": "code",
      "metadata": {
        "id": "nVZnx7Mo0Us8",
        "colab_type": "code",
        "colab": {
          "base_uri": "https://localhost:8080/",
          "height": 148
        },
        "outputId": "a0ddbd52-6312-48be-aba5-860168fe26ef"
      },
      "source": [
        "t=int(input())\n",
        "while(t>0):\n",
        "  n=int(input())\n",
        "  og=n\n",
        "  dis=0\n",
        "  while(n>0):\n",
        "    dis+=int(n%10)\n",
        "    n=int(n/10)\n",
        "    if n>0:\n",
        "      dis*=10\n",
        "      \n",
        "  if dis==og:\n",
        "    print(\"wins\")\n",
        "  else:\n",
        "    print(\"losses\")\n",
        "  t-=1"
      ],
      "execution_count": 4,
      "outputs": [
        {
          "output_type": "stream",
          "text": [
            "3\n",
            "2345\n",
            "losses\n",
            "6666\n",
            "wins\n",
            "36663\n",
            "wins\n"
          ],
          "name": "stdout"
        }
      ]
    },
    {
      "cell_type": "code",
      "metadata": {
        "id": "eXxpntXT1MPi",
        "colab_type": "code",
        "colab": {}
      },
      "source": [
        ""
      ],
      "execution_count": 0,
      "outputs": []
    }
  ]
}