{
  "nbformat": 4,
  "nbformat_minor": 0,
  "metadata": {
    "colab": {
      "name": "Problem Code: FLOW010",
      "provenance": [],
      "authorship_tag": "ABX9TyPqrk7okp8d8uHOLmVKqX4b",
      "include_colab_link": true
    },
    "kernelspec": {
      "name": "python3",
      "display_name": "Python 3"
    }
  },
  "cells": [
    {
      "cell_type": "markdown",
      "metadata": {
        "id": "view-in-github",
        "colab_type": "text"
      },
      "source": [
        "<a href=\"https://colab.research.google.com/github/Drila42/Code-Chef-problems-/blob/master/Problem_Code_FLOW010.ipynb\" target=\"_parent\"><img src=\"https://colab.research.google.com/assets/colab-badge.svg\" alt=\"Open In Colab\"/></a>"
      ]
    },
    {
      "cell_type": "code",
      "metadata": {
        "id": "cueNTP-9jhRX",
        "colab_type": "code",
        "colab": {
          "base_uri": "https://localhost:8080/",
          "height": 129
        },
        "outputId": "bc62fc0b-8c7c-4f05-96da-4726e4a5e1c9"
      },
      "source": [
        "t=int(input())\n",
        "d={\"b\":\"BattleShip\",\"c\":\"Cruiser\",\"d\":\"Destroyer\",\"f\":\"Frigate\"}\n",
        "while(t>0):\n",
        "  classid=input().lower()\n",
        "  if classid in d.keys():\n",
        "    print(d[classid])\n",
        "  t-=1\n"
      ],
      "execution_count": 3,
      "outputs": [
        {
          "output_type": "stream",
          "text": [
            "3\n",
            "D\n",
            "Destroyer\n",
            "B\n",
            "BattleShip\n",
            "V\n"
          ],
          "name": "stdout"
        }
      ]
    },
    {
      "cell_type": "code",
      "metadata": {
        "id": "_JjDpC-bkzZq",
        "colab_type": "code",
        "colab": {}
      },
      "source": [
        ""
      ],
      "execution_count": 0,
      "outputs": []
    }
  ]
}