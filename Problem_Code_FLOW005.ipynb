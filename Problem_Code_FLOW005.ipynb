{
  "nbformat": 4,
  "nbformat_minor": 0,
  "metadata": {
    "colab": {
      "name": "Problem Code: FLOW005",
      "provenance": [],
      "authorship_tag": "ABX9TyP8/Ujyu9vwO8ytWueLBxqQ",
      "include_colab_link": true
    },
    "kernelspec": {
      "name": "python3",
      "display_name": "Python 3"
    }
  },
  "cells": [
    {
      "cell_type": "markdown",
      "metadata": {
        "id": "view-in-github",
        "colab_type": "text"
      },
      "source": [
        "<a href=\"https://colab.research.google.com/github/Drila42/Code-Chef-problems-/blob/master/Problem_Code_FLOW005.ipynb\" target=\"_parent\"><img src=\"https://colab.research.google.com/assets/colab-badge.svg\" alt=\"Open In Colab\"/></a>"
      ]
    },
    {
      "cell_type": "code",
      "metadata": {
        "id": "NukfDq7ke3aL",
        "colab_type": "code",
        "colab": {
          "base_uri": "https://localhost:8080/",
          "height": 129
        },
        "outputId": "bbe6943c-c267-4c23-ed9e-1faf54727867"
      },
      "source": [
        "c=[100,50,10,5,2,1]\n",
        "\n",
        "t=int(input())\n",
        "while(t>0):\n",
        "  n=int(input())\n",
        "  i=0\n",
        "  cou=0\n",
        "  while(n>0):\n",
        "    cou+=int(n/c[i])\n",
        "    n=int(n%c[i])\n",
        "    i+=1\n",
        "  print(cou)\n",
        "  t-=1\n",
        "\n"
      ],
      "execution_count": 9,
      "outputs": [
        {
          "output_type": "stream",
          "text": [
            "ERROR! Session/line number was not unique in database. History logging moved to new session 59\n",
            "2\n",
            "1200\n",
            "12\n",
            "242\n",
            "7\n"
          ],
          "name": "stdout"
        }
      ]
    },
    {
      "cell_type": "code",
      "metadata": {
        "id": "qdUiZqfkhRo5",
        "colab_type": "code",
        "colab": {}
      },
      "source": [
        ""
      ],
      "execution_count": 0,
      "outputs": []
    }
  ]
}