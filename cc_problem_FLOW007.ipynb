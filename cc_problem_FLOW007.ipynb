{
  "nbformat": 4,
  "nbformat_minor": 0,
  "metadata": {
    "colab": {
      "name": "cc_problem FLOW007",
      "provenance": [],
      "authorship_tag": "ABX9TyOQ3/C3ES9JbHOrDIiTX/nV",
      "include_colab_link": true
    },
    "kernelspec": {
      "name": "python3",
      "display_name": "Python 3"
    }
  },
  "cells": [
    {
      "cell_type": "markdown",
      "metadata": {
        "id": "view-in-github",
        "colab_type": "text"
      },
      "source": [
        "<a href=\"https://colab.research.google.com/github/Drila42/Code-Chef-problems-/blob/master/cc_problem_FLOW007.ipynb\" target=\"_parent\"><img src=\"https://colab.research.google.com/assets/colab-badge.svg\" alt=\"Open In Colab\"/></a>"
      ]
    },
    {
      "cell_type": "code",
      "metadata": {
        "id": "rCosRrFPt5Ce",
        "colab_type": "code",
        "colab": {
          "base_uri": "https://localhost:8080/",
          "height": 111
        },
        "outputId": "21e6a190-86e0-41de-ef8e-dcb6149c4b4f"
      },
      "source": [
        "t=int(input())\n",
        "while(t>0):\n",
        "  n=int(input())\n",
        "  dis=0\n",
        "  while(n>0):\n",
        "    dis+=int(n%10)\n",
        "    n=int(n/10)\n",
        "    if n>0:\n",
        "      dis *=10\n",
        "  print(dis)\n",
        "  t-=1\n"
      ],
      "execution_count": 1,
      "outputs": [
        {
          "output_type": "stream",
          "text": [
            "2\n",
            "1453565\n",
            "5653541\n",
            "12345678\n",
            "87654321\n"
          ],
          "name": "stdout"
        }
      ]
    },
    {
      "cell_type": "code",
      "metadata": {
        "id": "HBkPDxzov9VH",
        "colab_type": "code",
        "colab": {}
      },
      "source": [
        ""
      ],
      "execution_count": 0,
      "outputs": []
    }
  ]
}