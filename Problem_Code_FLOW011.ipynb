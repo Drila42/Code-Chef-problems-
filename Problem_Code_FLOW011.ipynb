{
  "nbformat": 4,
  "nbformat_minor": 0,
  "metadata": {
    "colab": {
      "name": "Problem Code: FLOW011",
      "provenance": [],
      "collapsed_sections": [],
      "authorship_tag": "ABX9TyO6jUQ3kZnjPfoOhsc8SHMN",
      "include_colab_link": true
    },
    "kernelspec": {
      "name": "python3",
      "display_name": "Python 3"
    }
  },
  "cells": [
    {
      "cell_type": "markdown",
      "metadata": {
        "id": "view-in-github",
        "colab_type": "text"
      },
      "source": [
        "<a href=\"https://colab.research.google.com/github/Drila42/Code-Chef-problems-/blob/master/Problem_Code_FLOW011.ipynb\" target=\"_parent\"><img src=\"https://colab.research.google.com/assets/colab-badge.svg\" alt=\"Open In Colab\"/></a>"
      ]
    },
    {
      "cell_type": "code",
      "metadata": {
        "id": "RyIOaucBqmIM",
        "colab_type": "code",
        "colab": {
          "base_uri": "https://localhost:8080/",
          "height": 73
        },
        "outputId": "9a083dc1-ec13-4977-d5e7-bc11f51dbf10"
      },
      "source": [
        "t=int(input())\n",
        "while(t>0):\n",
        "  sal=int(input())\n",
        "\n",
        "  if sal >= 1500:\n",
        "    hra=500\n",
        "    da=sal*0.98\n",
        "\n",
        "  elif sal < 1500:\n",
        "    hra=sal*0.10\n",
        "    da=sal*0.90\n",
        "  \n",
        "  gross=sal+hra+da\n",
        "  print(gross)\n",
        "  \n",
        "  t-=1\n"
      ],
      "execution_count": 4,
      "outputs": [
        {
          "output_type": "stream",
          "text": [
            "1\n",
            "1312\n",
            "2624.0\n"
          ],
          "name": "stdout"
        }
      ]
    },
    {
      "cell_type": "code",
      "metadata": {
        "id": "zKl7fCIytwTS",
        "colab_type": "code",
        "colab": {}
      },
      "source": [
        ""
      ],
      "execution_count": 0,
      "outputs": []
    }
  ]
}