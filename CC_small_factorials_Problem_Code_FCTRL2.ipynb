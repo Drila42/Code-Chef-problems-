{
  "nbformat": 4,
  "nbformat_minor": 0,
  "metadata": {
    "colab": {
      "name": "CC_small factorials_Problem Code: FCTRL2",
      "provenance": [],
      "authorship_tag": "ABX9TyN9wnieU6U2rUFcb/Ht5Wsk",
      "include_colab_link": true
    },
    "kernelspec": {
      "name": "python3",
      "display_name": "Python 3"
    }
  },
  "cells": [
    {
      "cell_type": "markdown",
      "metadata": {
        "id": "view-in-github",
        "colab_type": "text"
      },
      "source": [
        "<a href=\"https://colab.research.google.com/github/Drila42/Code-Chef-problems-/blob/master/CC_small_factorials_Problem_Code_FCTRL2.ipynb\" target=\"_parent\"><img src=\"https://colab.research.google.com/assets/colab-badge.svg\" alt=\"Open In Colab\"/></a>"
      ]
    },
    {
      "cell_type": "code",
      "metadata": {
        "id": "PnAp9OzSsVcw",
        "colab_type": "code",
        "colab": {
          "base_uri": "https://localhost:8080/",
          "height": 148
        },
        "outputId": "3fc44f4a-0363-421a-dd5d-f5d6b543345e"
      },
      "source": [
        "t=int(input())\n",
        "while(t>0):\n",
        "  n=int(input())\n",
        "  f=1\n",
        "  for i in range (n):\n",
        "    f*=(i+1)\n",
        "  print (f)\n",
        "  t-=1\n"
      ],
      "execution_count": 2,
      "outputs": [
        {
          "output_type": "stream",
          "text": [
            "3\n",
            "3\n",
            "6\n",
            "5\n",
            "120\n",
            "7\n",
            "5040\n"
          ],
          "name": "stdout"
        }
      ]
    },
    {
      "cell_type": "code",
      "metadata": {
        "id": "cmblpOZSs-2l",
        "colab_type": "code",
        "colab": {}
      },
      "source": [
        ""
      ],
      "execution_count": 0,
      "outputs": []
    }
  ]
}