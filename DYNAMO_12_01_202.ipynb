{
  "nbformat": 4,
  "nbformat_minor": 0,
  "metadata": {
    "colab": {
      "name": "DYNAMO. 12.01.202",
      "provenance": [],
      "authorship_tag": "ABX9TyP0rAQaIhFhzIEyDrXUuQ00",
      "include_colab_link": true
    },
    "kernelspec": {
      "name": "python3",
      "display_name": "Python 3"
    }
  },
  "cells": [
    {
      "cell_type": "markdown",
      "metadata": {
        "id": "view-in-github",
        "colab_type": "text"
      },
      "source": [
        "<a href=\"https://colab.research.google.com/github/Drila42/Code-Chef-problems-/blob/master/DYNAMO_12_01_202.ipynb\" target=\"_parent\"><img src=\"https://colab.research.google.com/assets/colab-badge.svg\" alt=\"Open In Colab\"/></a>"
      ]
    },
    {
      "cell_type": "code",
      "metadata": {
        "id": "Orvv6Fj1NGU-",
        "colab_type": "code",
        "outputId": "95b60de9-73f4-4a2f-8be6-2416fbfe182d",
        "colab": {
          "base_uri": "https://localhost:8080/",
          "height": 181
        }
      },
      "source": [
        "t=int(input())\n",
        "while (t>0):\n",
        "    N=int(input())\n",
        "    A=int(input())\n",
        "    S=A+(((10**N)-1)*2)+2\n",
        "    print(\"S\",S,flush=True)\n",
        "    B=int(input())\n",
        "    C=int ((S-(A+B))-(10**N))\n",
        "    print(\"C\",C,flush=True)\n",
        "    D=int(input())\n",
        "    E=int (S-(A+B+C+D))\n",
        "    print(\"E\",E,flush=True)\n",
        "\n",
        "    if(S==(A+B+C+D+E)):\n",
        "      print(1)\n",
        "    else:\n",
        "      print(0)\n",
        "\n",
        "    \n",
        "    #x=int(input())\n",
        "    #if x==-1:\n",
        "       # exit()\n",
        "  \n",
        "    \n",
        "\n",
        "    t-=1 \n"
      ],
      "execution_count": 0,
      "outputs": [
        {
          "output_type": "stream",
          "text": [
            "1\n",
            "3\n",
            "567\n",
            "S 2567\n",
            "234\n",
            "C 766\n",
            "432\n",
            "E 568\n",
            "1\n"
          ],
          "name": "stdout"
        }
      ]
    },
    {
      "cell_type": "code",
      "metadata": {
        "id": "xlhpnOELSqXu",
        "colab_type": "code",
        "colab": {}
      },
      "source": [
        ""
      ],
      "execution_count": 0,
      "outputs": []
    },
    {
      "cell_type": "code",
      "metadata": {
        "id": "Tra9DqBsNOa0",
        "colab_type": "code",
        "colab": {}
      },
      "source": [
        "1"
      ],
      "execution_count": 0,
      "outputs": []
    }
  ]
}