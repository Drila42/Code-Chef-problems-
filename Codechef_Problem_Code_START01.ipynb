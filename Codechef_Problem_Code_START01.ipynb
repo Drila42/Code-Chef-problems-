{
  "nbformat": 4,
  "nbformat_minor": 0,
  "metadata": {
    "colab": {
      "name": "Codechef_Problem Code: START01",
      "provenance": [],
      "authorship_tag": "ABX9TyOSqjv+/63na6IhI2niKeh4",
      "include_colab_link": true
    },
    "kernelspec": {
      "name": "python3",
      "display_name": "Python 3"
    }
  },
  "cells": [
    {
      "cell_type": "markdown",
      "metadata": {
        "id": "view-in-github",
        "colab_type": "text"
      },
      "source": [
        "<a href=\"https://colab.research.google.com/github/Drila42/Code-Chef-problems-/blob/master/Codechef_Problem_Code_START01.ipynb\" target=\"_parent\"><img src=\"https://colab.research.google.com/assets/colab-badge.svg\" alt=\"Open In Colab\"/></a>"
      ]
    },
    {
      "cell_type": "code",
      "metadata": {
        "id": "lSA_ZOe8BxR_",
        "colab_type": "code",
        "colab": {}
      },
      "source": [
        "t=int(input())\n",
        "print (t)"
      ],
      "execution_count": 0,
      "outputs": []
    }
  ]
}