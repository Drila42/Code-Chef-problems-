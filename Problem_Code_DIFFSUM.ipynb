{
  "nbformat": 4,
  "nbformat_minor": 0,
  "metadata": {
    "colab": {
      "name": "Problem Code: DIFFSUM",
      "provenance": [],
      "authorship_tag": "ABX9TyP/cV1e+1vmiB/AASRwBYx0",
      "include_colab_link": true
    },
    "kernelspec": {
      "name": "python3",
      "display_name": "Python 3"
    }
  },
  "cells": [
    {
      "cell_type": "markdown",
      "metadata": {
        "id": "view-in-github",
        "colab_type": "text"
      },
      "source": [
        "<a href=\"https://colab.research.google.com/github/Drila42/Code-Chef-problems-/blob/master/Problem_Code_DIFFSUM.ipynb\" target=\"_parent\"><img src=\"https://colab.research.google.com/assets/colab-badge.svg\" alt=\"Open In Colab\"/></a>"
      ]
    },
    {
      "cell_type": "code",
      "metadata": {
        "id": "P_lq9-ZBDdmw",
        "colab_type": "code",
        "colab": {
          "base_uri": "https://localhost:8080/",
          "height": 73
        },
        "outputId": "69852b07-1257-47f2-9210-302bcc4ed1f5"
      },
      "source": [
        "a=int(input())\n",
        "b=int(input())\n",
        "\n",
        "if a>b:\n",
        "  print(a-b)\n",
        "else:\n",
        "  print(a+b)"
      ],
      "execution_count": 1,
      "outputs": [
        {
          "output_type": "stream",
          "text": [
            "82\n",
            "28\n",
            "54\n"
          ],
          "name": "stdout"
        }
      ]
    },
    {
      "cell_type": "code",
      "metadata": {
        "id": "JIlYCcORFSQu",
        "colab_type": "code",
        "colab": {}
      },
      "source": [
        "82"
      ],
      "execution_count": 0,
      "outputs": []
    }
  ]
}