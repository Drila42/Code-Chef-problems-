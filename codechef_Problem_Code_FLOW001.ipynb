{
  "nbformat": 4,
  "nbformat_minor": 0,
  "metadata": {
    "colab": {
      "name": "codechef_Problem Code: FLOW001",
      "provenance": [],
      "authorship_tag": "ABX9TyPAzeEGcLaKC5qhK7yOraUx",
      "include_colab_link": true
    },
    "kernelspec": {
      "name": "python3",
      "display_name": "Python 3"
    }
  },
  "cells": [
    {
      "cell_type": "markdown",
      "metadata": {
        "id": "view-in-github",
        "colab_type": "text"
      },
      "source": [
        "<a href=\"https://colab.research.google.com/github/Drila42/Code-Chef-problems-/blob/master/codechef_Problem_Code_FLOW001.ipynb\" target=\"_parent\"><img src=\"https://colab.research.google.com/assets/colab-badge.svg\" alt=\"Open In Colab\"/></a>"
      ]
    },
    {
      "cell_type": "code",
      "metadata": {
        "id": "fRUlBcDMAdqU",
        "colab_type": "code",
        "colab": {
          "base_uri": "https://localhost:8080/",
          "height": 148
        },
        "outputId": "1a88957f-29c7-4bc8-9a56-906130c81344"
      },
      "source": [
        "t=int(input())\n",
        "while(t>0):\n",
        "  n,k=[int(x) for x in input().split()]\n",
        "  print(n+k)\n",
        "  t-=1"
      ],
      "execution_count": 2,
      "outputs": [
        {
          "output_type": "stream",
          "text": [
            "3\n",
            "1 2\n",
            "3\n",
            "3 4\n",
            "7\n",
            "5 6\n",
            "11\n"
          ],
          "name": "stdout"
        }
      ]
    },
    {
      "cell_type": "code",
      "metadata": {
        "id": "C8dI4VnoA0c8",
        "colab_type": "code",
        "colab": {}
      },
      "source": [
        "3\n",
        "100 200\n",
        "1 2"
      ],
      "execution_count": 0,
      "outputs": []
    }
  ]
}