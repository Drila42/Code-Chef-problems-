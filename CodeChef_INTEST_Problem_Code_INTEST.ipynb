{
  "nbformat": 4,
  "nbformat_minor": 0,
  "metadata": {
    "colab": {
      "name": "CodeChef_INTEST_Problem Code: INTEST",
      "provenance": [],
      "authorship_tag": "ABX9TyON0/WVqZAfpMPvAuIRaPWW",
      "include_colab_link": true
    },
    "kernelspec": {
      "name": "python3",
      "display_name": "Python 3"
    }
  },
  "cells": [
    {
      "cell_type": "markdown",
      "metadata": {
        "id": "view-in-github",
        "colab_type": "text"
      },
      "source": [
        "<a href=\"https://colab.research.google.com/github/Drila42/Code-Chef-problems-/blob/master/CodeChef_INTEST_Problem_Code_INTEST.ipynb\" target=\"_parent\"><img src=\"https://colab.research.google.com/assets/colab-badge.svg\" alt=\"Open In Colab\"/></a>"
      ]
    },
    {
      "cell_type": "code",
      "metadata": {
        "id": "FtyOBfGjj7fB",
        "colab_type": "code",
        "outputId": "2b1b255f-bd5d-4fbc-b546-dfe39a8b6c11",
        "colab": {
          "base_uri": "https://localhost:8080/",
          "height": 129
        }
      },
      "source": [
        "\n",
        "  n,k=[int(x) for x in input().split()]\n",
        "  count=0\n",
        "  for i in range(n):\n",
        "    p=int(input())\n",
        "    if p%k==0:\n",
        "      count+=1\n",
        "  print(count)\n",
        "\n"
      ],
      "execution_count": 0,
      "outputs": [
        {
          "output_type": "stream",
          "text": [
            "1\n",
            "3 2\n",
            "4\n",
            "5\n",
            "6\n",
            "2\n"
          ],
          "name": "stdout"
        }
      ]
    },
    {
      "cell_type": "code",
      "metadata": {
        "id": "s7H3FJzTl64h",
        "colab_type": "code",
        "colab": {}
      },
      "source": [
        "1\n",
        "3 2\n"
      ],
      "execution_count": 0,
      "outputs": []
    }
  ]
}