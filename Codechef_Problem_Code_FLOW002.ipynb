{
  "nbformat": 4,
  "nbformat_minor": 0,
  "metadata": {
    "colab": {
      "name": "Codechef_Problem Code: FLOW002",
      "provenance": [],
      "authorship_tag": "ABX9TyOy/l+c87WNR62rGOjy6kj+",
      "include_colab_link": true
    },
    "kernelspec": {
      "name": "python3",
      "display_name": "Python 3"
    }
  },
  "cells": [
    {
      "cell_type": "markdown",
      "metadata": {
        "id": "view-in-github",
        "colab_type": "text"
      },
      "source": [
        "<a href=\"https://colab.research.google.com/github/Drila42/Code-Chef-problems-/blob/master/Codechef_Problem_Code_FLOW002.ipynb\" target=\"_parent\"><img src=\"https://colab.research.google.com/assets/colab-badge.svg\" alt=\"Open In Colab\"/></a>"
      ]
    },
    {
      "cell_type": "code",
      "metadata": {
        "id": "lSA_ZOe8BxR_",
        "colab_type": "code",
        "colab": {
          "base_uri": "https://localhost:8080/",
          "height": 111
        },
        "outputId": "f9c8a05f-fe9e-41ed-b5dc-4b375dfd7b2d"
      },
      "source": [
        "t=int(input())\n",
        "while(t>0):\n",
        "  a,b=[int(x) for x in input().split()]\n",
        "\n",
        "  print(a%b)\n",
        "  t-=1"
      ],
      "execution_count": 2,
      "outputs": [
        {
          "output_type": "stream",
          "text": [
            "2\n",
            "10 5\n",
            "0\n",
            "100 200\n",
            "100\n"
          ],
          "name": "stdout"
        }
      ]
    }
  ]
}