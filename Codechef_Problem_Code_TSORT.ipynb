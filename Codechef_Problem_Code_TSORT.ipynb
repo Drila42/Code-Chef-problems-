{
  "nbformat": 4,
  "nbformat_minor": 0,
  "metadata": {
    "colab": {
      "name": "Codechef_Problem Code: TSORT",
      "provenance": [],
      "authorship_tag": "ABX9TyPV+lDnJyLVo10sTLyZ8wBY",
      "include_colab_link": true
    },
    "kernelspec": {
      "name": "python3",
      "display_name": "Python 3"
    }
  },
  "cells": [
    {
      "cell_type": "markdown",
      "metadata": {
        "id": "view-in-github",
        "colab_type": "text"
      },
      "source": [
        "<a href=\"https://colab.research.google.com/github/Drila42/Code-Chef-problems-/blob/master/Codechef_Problem_Code_TSORT.ipynb\" target=\"_parent\"><img src=\"https://colab.research.google.com/assets/colab-badge.svg\" alt=\"Open In Colab\"/></a>"
      ]
    },
    {
      "cell_type": "code",
      "metadata": {
        "id": "lSA_ZOe8BxR_",
        "colab_type": "code",
        "colab": {
          "base_uri": "https://localhost:8080/",
          "height": 185
        },
        "outputId": "753b6f8f-6c50-4ac5-f42d-05f6542a6dc6"
      },
      "source": [
        "t=int(input())\n",
        "a=[]\n",
        "for i in range (t):\n",
        "  n=int(input())\n",
        "  a.append(n)\n",
        "\n",
        "a.sort()\n",
        "for i in range (t):\n",
        "  print(a[i])\n",
        "\n",
        "\n",
        "\n"
      ],
      "execution_count": 12,
      "outputs": [
        {
          "output_type": "stream",
          "text": [
            "4\n",
            "235\n",
            "3\n",
            "35\n",
            "75\n",
            "3\n",
            "35\n",
            "75\n",
            "235\n"
          ],
          "name": "stdout"
        }
      ]
    },
    {
      "cell_type": "code",
      "metadata": {
        "id": "mc5T2pRgExXf",
        "colab_type": "code",
        "colab": {}
      },
      "source": [
        ""
      ],
      "execution_count": 0,
      "outputs": []
    }
  ]
}