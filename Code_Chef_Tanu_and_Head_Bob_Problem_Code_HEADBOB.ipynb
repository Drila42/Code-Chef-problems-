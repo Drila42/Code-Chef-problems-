{
  "nbformat": 4,
  "nbformat_minor": 0,
  "metadata": {
    "colab": {
      "name": "Code Chef_Tanu and Head_Bob_Problem Code : HEADBOB",
      "provenance": [],
      "authorship_tag": "ABX9TyOVftGnnMRE0JUykO8w/MBB",
      "include_colab_link": true
    },
    "kernelspec": {
      "name": "python3",
      "display_name": "Python 3"
    }
  },
  "cells": [
    {
      "cell_type": "markdown",
      "metadata": {
        "id": "view-in-github",
        "colab_type": "text"
      },
      "source": [
        "<a href=\"https://colab.research.google.com/github/Drila42/Code-Chef-problems-/blob/master/Code_Chef_Tanu_and_Head_Bob_Problem_Code_HEADBOB.ipynb\" target=\"_parent\"><img src=\"https://colab.research.google.com/assets/colab-badge.svg\" alt=\"Open In Colab\"/></a>"
      ]
    },
    {
      "cell_type": "code",
      "metadata": {
        "id": "3ga3IdJdGH5E",
        "colab_type": "code",
        "colab": {
          "base_uri": "https://localhost:8080/",
          "height": 204
        },
        "outputId": "bf1d619f-ec87-4e39-a61c-ec411d05b002"
      },
      "source": [
        "t=int(input())\n",
        "while(t>0):\n",
        "  n=int(input())\n",
        "  x=input()\n",
        "\n",
        "  if 'I' in x:\n",
        "    print(\"INDIAN\")\n",
        "\n",
        "  elif 'Y' in x:\n",
        "    print(\"NOT INDIAN\")\n",
        "\n",
        "  else:\n",
        "    print(\"NOT SURE\")\n",
        "\n",
        "  t-=1"
      ],
      "execution_count": 15,
      "outputs": [
        {
          "output_type": "stream",
          "text": [
            "3\n",
            "6\n",
            "NNIII\n",
            "INDIAN\n",
            "4\n",
            "NNNN\n",
            "NOT SURE\n",
            "6\n",
            "NNYYYYNNN\n",
            "NOT INDIAN\n"
          ],
          "name": "stdout"
        }
      ]
    },
    {
      "cell_type": "code",
      "metadata": {
        "id": "vy9dOr_2eGeJ",
        "colab_type": "code",
        "colab": {}
      },
      "source": [
        ""
      ],
      "execution_count": 0,
      "outputs": []
    },
    {
      "cell_type": "code",
      "metadata": {
        "id": "FSq-VCNPI_V2",
        "colab_type": "code",
        "colab": {}
      },
      "source": [
        ""
      ],
      "execution_count": 0,
      "outputs": []
    }
  ]
}