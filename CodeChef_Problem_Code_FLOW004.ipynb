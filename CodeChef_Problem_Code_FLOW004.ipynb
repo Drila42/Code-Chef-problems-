{
  "nbformat": 4,
  "nbformat_minor": 0,
  "metadata": {
    "colab": {
      "name": "CodeChef_Problem Code: FLOW004",
      "provenance": [],
      "authorship_tag": "ABX9TyMYxphlmHqt4bLxevvkzS8c",
      "include_colab_link": true
    },
    "kernelspec": {
      "name": "python3",
      "display_name": "Python 3"
    }
  },
  "cells": [
    {
      "cell_type": "markdown",
      "metadata": {
        "id": "view-in-github",
        "colab_type": "text"
      },
      "source": [
        "<a href=\"https://colab.research.google.com/github/Drila42/Code-Chef-problems-/blob/master/CodeChef_Problem_Code_FLOW004.ipynb\" target=\"_parent\"><img src=\"https://colab.research.google.com/assets/colab-badge.svg\" alt=\"Open In Colab\"/></a>"
      ]
    },
    {
      "cell_type": "code",
      "metadata": {
        "id": "Li5PvasZMFQo",
        "colab_type": "code",
        "colab": {
          "base_uri": "https://localhost:8080/",
          "height": 111
        },
        "outputId": "1699c9b7-4241-4bf6-834d-c779b474db49"
      },
      "source": [
        "t=int(input())\n",
        "for i in range (t):\n",
        "  n=int(input())\n",
        "  l=[int(x) for x in str(n)] \n",
        "  sum = l[0]+l[-1]\n",
        "  print(sum)\n",
        "  "
      ],
      "execution_count": 2,
      "outputs": [
        {
          "output_type": "stream",
          "text": [
            "2\n",
            "564\n",
            "9\n",
            "8675\n",
            "13\n"
          ],
          "name": "stdout"
        }
      ]
    },
    {
      "cell_type": "code",
      "metadata": {
        "id": "bUT4kMrTPiJK",
        "colab_type": "code",
        "colab": {}
      },
      "source": [
        "2\n",
        "6493\n",
        "763\n"
      ],
      "execution_count": 0,
      "outputs": []
    }
  ]
}